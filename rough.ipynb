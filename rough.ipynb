{
 "cells": [
  {
   "cell_type": "code",
   "execution_count": 2,
   "metadata": {},
   "outputs": [],
   "source": [
    "import numpy as np"
   ]
  },
  {
   "cell_type": "code",
   "execution_count": 3,
   "metadata": {},
   "outputs": [
    {
     "data": {
      "text/plain": [
       "array([1.00000000e-04, 2.63665090e-04, 6.95192796e-04, 1.83298071e-03,\n",
       "       4.83293024e-03, 1.27427499e-02, 3.35981829e-02, 8.85866790e-02,\n",
       "       2.33572147e-01, 6.15848211e-01, 1.62377674e+00, 4.28133240e+00,\n",
       "       1.12883789e+01, 2.97635144e+01, 7.84759970e+01, 2.06913808e+02,\n",
       "       5.45559478e+02, 1.43844989e+03, 3.79269019e+03, 1.00000000e+04])"
      ]
     },
     "execution_count": 3,
     "metadata": {},
     "output_type": "execute_result"
    }
   ],
   "source": [
    "np.logspace(-4,4,20)"
   ]
  },
  {
   "cell_type": "code",
   "execution_count": 4,
   "metadata": {},
   "outputs": [
    {
     "data": {
      "text/plain": [
       "array([-4.        , -3.57894737, -3.15789474, -2.73684211, -2.31578947,\n",
       "       -1.89473684, -1.47368421, -1.05263158, -0.63157895, -0.21052632,\n",
       "        0.21052632,  0.63157895,  1.05263158,  1.47368421,  1.89473684,\n",
       "        2.31578947,  2.73684211,  3.15789474,  3.57894737,  4.        ])"
      ]
     },
     "execution_count": 4,
     "metadata": {},
     "output_type": "execute_result"
    }
   ],
   "source": [
    "np.linspace(-4,4,20)"
   ]
  },
  {
   "cell_type": "code",
   "execution_count": 7,
   "metadata": {},
   "outputs": [
    {
     "data": {
      "text/plain": [
       "array([100, 300, 500, 700, 900])"
      ]
     },
     "execution_count": 7,
     "metadata": {},
     "output_type": "execute_result"
    }
   ],
   "source": [
    "np.arange(100,1000,200)"
   ]
  },
  {
   "cell_type": "code",
   "execution_count": 8,
   "metadata": {},
   "outputs": [
    {
     "data": {
      "text/plain": [
       "array([600, 700, 800])"
      ]
     },
     "execution_count": 8,
     "metadata": {},
     "output_type": "execute_result"
    }
   ],
   "source": [
    "np.arange(600,900,100)"
   ]
  },
  {
   "cell_type": "code",
   "execution_count": 9,
   "metadata": {},
   "outputs": [
    {
     "data": {
      "text/plain": [
       "array([3, 4, 5])"
      ]
     },
     "execution_count": 9,
     "metadata": {},
     "output_type": "execute_result"
    }
   ],
   "source": [
    "np.arange(3,6,1)"
   ]
  },
  {
   "cell_type": "code",
   "execution_count": null,
   "metadata": {},
   "outputs": [],
   "source": [
    "import matplotlib.pyplot as plt\n",
    "import seaborn as sns\n",
    "plt.rcParams[\"figure.figsize\"] = [7.00, 3.50]\n",
    "plt.rcParams[\"figure.autolayout\"] = True\n",
    "x = ['A', 'B', 'C', 'D', 'E']\n",
    "y = [1, 3, 2, 0, 4]\n",
    "percentage = [10, 30, 20, 0, 40]\n",
    "ax = sns.barplot(x=x, y=y, palette='PuBuGn_r')\n",
    "patches = ax.patches\n",
    "for i in range(len(patches)):\n",
    "   x = patches[i].get_x() + patches[i].get_width()/2\n",
    "   y = patches[i].get_height()+.05\n",
    "   ax.annotate('{:.1f}%'.format(percentage[i]), (x, y), ha='center')\n",
    "plt.show()"
   ]
  },
  {
   "cell_type": "code",
   "execution_count": 1,
   "metadata": {},
   "outputs": [
    {
     "data": {
      "text/plain": [
       "'d:\\\\Faisal\\\\Projects\\\\end_to_end_hd'"
      ]
     },
     "execution_count": 1,
     "metadata": {},
     "output_type": "execute_result"
    }
   ],
   "source": [
    "from dataclasses import dataclass\n",
    "@dataclass \n",
    "class DataingestionConfiq:\n",
    "    raw_data_path : str = os.path.join(\"Dataset\", \"raw_data.csv\")"
   ]
  },
  {
   "cell_type": "code",
   "execution_count": 24,
   "metadata": {},
   "outputs": [
    {
     "data": {
      "text/plain": [
       "tuple"
      ]
     },
     "execution_count": 24,
     "metadata": {},
     "output_type": "execute_result"
    }
   ],
   "source": [
    "def get_list(n,y):\n",
    "    x = n + y\n",
    "    y = n * y\n",
    "    z = n / y\n",
    "\n",
    "    return x,y,z\n",
    "\n",
    "result = get_list(10,5)\n",
    "# the_number_of_return_values = 1 if type(result) is not tuple else len(result)\n",
    "# the_number_of_return_values\n",
    "type(result)\n"
   ]
  },
  {
   "cell_type": "code",
   "execution_count": 10,
   "metadata": {},
   "outputs": [
    {
     "name": "stdout",
     "output_type": "stream",
     "text": [
      "15\n",
      "50\n",
      "0.2\n"
     ]
    }
   ],
   "source": [
    "def get_list(n,y):\n",
    "    x = n + y\n",
    "    y = n * y\n",
    "    z = n / y\n",
    "\n",
    "    return (x,y,z)\n",
    "\n",
    "x,y,z = get_list(10,5)\n",
    "print(x)\n",
    "print(y)\n",
    "print(z)\n",
    "\n"
   ]
  },
  {
   "cell_type": "code",
   "execution_count": 29,
   "metadata": {},
   "outputs": [
    {
     "data": {
      "text/plain": [
       "array([100, 200, 300, 400, 500])"
      ]
     },
     "execution_count": 29,
     "metadata": {},
     "output_type": "execute_result"
    }
   ],
   "source": [
    "import numpy as np\n",
    "a = np.arange(100,510,100)\n",
    "a"
   ]
  },
  {
   "cell_type": "code",
   "execution_count": null,
   "metadata": {},
   "outputs": [],
   "source": [
    "# logistic_reg_param =['penalty' : ['l1', 'l2', 'elasticnet', 'none'],\n",
    "#     'C' : np.logspace(-4, 4, 20),\n",
    "#     'solver' : ['lbfgs','newton-cg','liblinear','sag','saga'],\n",
    "#     'max_iter' : [100, 1000,2500, 5000]]\n",
    "\n",
    "# \"RandomForestClassifier\" : {\"n_estimators\" : np.arange(100,510,100),\n",
    "#                                      \"max_features\" : ['auto', 'sqrt']},\n",
    "\n",
    "                                   \n",
    "# \"KNeighborsClassifier\" : { 'n_neighbors' : [5,7,9,11,13,15],\n",
    "#                'weights' : ['uniform','distance'],\n",
    "#             #    'metric' : ['minkowski','euclidean','manhattan']\n",
    "#                }\n",
    "\n",
    "# # 'C': [0.1, 1, 10, 100, 1000],\n",
    "# #         gamma': [1, 0.1, 0.01, 0.001, 0.0001],\n",
    "# #               'kernel': ['rbf','linear']\n",
    "\n",
    "# 'loss': ['deviance', 'exponential'],\n",
    "#     'learning_rate': [0.001, 0.1, 1, 10],\n",
    "#     'n_estimators': [100, 150, 180, 200]"
   ]
  },
  {
   "cell_type": "code",
   "execution_count": 35,
   "metadata": {},
   "outputs": [
    {
     "data": {
      "text/plain": [
       "array([[7, 4, 8, 5, 7, 3, 7],\n",
       "       [8, 5, 4, 8, 8, 3, 6],\n",
       "       [5, 2, 8, 6, 2, 5, 1],\n",
       "       [6, 9, 1, 3, 7, 4, 9],\n",
       "       [3, 5, 3, 7, 5, 9, 7],\n",
       "       [2, 4, 9, 2, 9, 5, 2],\n",
       "       [4, 7, 8, 3, 1, 4, 2]])"
      ]
     },
     "execution_count": 35,
     "metadata": {},
     "output_type": "execute_result"
    }
   ],
   "source": [
    "np.random.seed(42)\n",
    "l = np.random.randint(1,10,(7,7))\n",
    "l"
   ]
  },
  {
   "cell_type": "code",
   "execution_count": 36,
   "metadata": {},
   "outputs": [
    {
     "data": {
      "text/plain": [
       "array([7, 6, 1, 9, 7, 2, 2])"
      ]
     },
     "execution_count": 36,
     "metadata": {},
     "output_type": "execute_result"
    }
   ],
   "source": [
    "l[:,-1]"
   ]
  },
  {
   "cell_type": "code",
   "execution_count": 39,
   "metadata": {},
   "outputs": [
    {
     "data": {
      "text/plain": [
       "array([[7, 4, 8, 5, 7, 3],\n",
       "       [8, 5, 4, 8, 8, 3],\n",
       "       [5, 2, 8, 6, 2, 5],\n",
       "       [6, 9, 1, 3, 7, 4],\n",
       "       [3, 5, 3, 7, 5, 9],\n",
       "       [2, 4, 9, 2, 9, 5],\n",
       "       [4, 7, 8, 3, 1, 4]])"
      ]
     },
     "execution_count": 39,
     "metadata": {},
     "output_type": "execute_result"
    }
   ],
   "source": [
    "l[:,:-1]"
   ]
  },
  {
   "cell_type": "code",
   "execution_count": null,
   "metadata": {},
   "outputs": [],
   "source": []
  }
 ],
 "metadata": {
  "kernelspec": {
   "display_name": "base",
   "language": "python",
   "name": "python3"
  },
  "language_info": {
   "codemirror_mode": {
    "name": "ipython",
    "version": 3
   },
   "file_extension": ".py",
   "mimetype": "text/x-python",
   "name": "python",
   "nbconvert_exporter": "python",
   "pygments_lexer": "ipython3",
   "version": "3.9.18"
  }
 },
 "nbformat": 4,
 "nbformat_minor": 2
}
